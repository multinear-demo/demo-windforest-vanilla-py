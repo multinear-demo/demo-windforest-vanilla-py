{
 "cells": [
  {
   "cell_type": "code",
   "execution_count": 1,
   "id": "a3d37ad9-879e-496c-83f6-36a1f9cb1eb0",
   "metadata": {},
   "outputs": [
    {
     "name": "stdout",
     "output_type": "stream",
     "text": [
      "Query:\n",
      "SELECT c.id, c.name, SUM(oi.quantity * oi.unit_price) as total_order_value FROM customers c JOIN orders o ON c.id = o.customer_id JOIN order_items oi ON o.id = oi.order_id GROUP BY c.id ORDER BY total_order_value DESC LIMIT 5;\n",
      "\n",
      "Rationale:\n",
      "To answer this business question, we would need to join the 'customers' and 'orders' tables on the customer_id. We would then join the 'order_items' table on the order_id. After that we would group by the customer's id and sum the product of the quantity and unit_price of each order item to get the total order value for each customer. Finally, we would sort in descending order by the total order value and limit to the top 5.\n",
      "\n",
      "Results:\n",
      "[{'id': 197, 'name': 'Mark Lewis', 'total_order_value': 83384.71}, {'id': 191, 'name': 'David Stevenson', 'total_order_value': 81087.86}, {'id': 425, 'name': 'Becky Lowery', 'total_order_value': 69810.45}, {'id': 483, 'name': 'Lauren Shaw', 'total_order_value': 69389.63}, {'id': 173, 'name': 'Christopher Perkins', 'total_order_value': 65075.770000000004}]\n"
     ]
    }
   ],
   "source": [
    "from engine import TextToSQLEngine\n",
    "from dotenv import load_dotenv\n",
    "load_dotenv()\n",
    "\n",
    "# Initialize the Text-to-SQL engine\n",
    "sql_engine = TextToSQLEngine()\n",
    "\n",
    "# Create async function to run queries\n",
    "async def run_query(question: str):\n",
    "    result = await sql_engine.process_query(question)\n",
    "    print(\"Query:\")\n",
    "    print(result[\"query\"])\n",
    "    print(\"\\nRationale:\")\n",
    "    print(result[\"rationale\"])\n",
    "    print(\"\\nResults:\")\n",
    "    print(result[\"results\"])\n",
    "\n",
    "# Run a sample query\n",
    "await run_query(\"What are our top 5 customers by total order value?\")"
   ]
  },
  {
   "cell_type": "code",
   "execution_count": null,
   "id": "61f9f3f1-fb36-4bc0-9414-be5512e85b59",
   "metadata": {},
   "outputs": [],
   "source": []
  }
 ],
 "metadata": {
  "kernelspec": {
   "display_name": "Python 3 (ipykernel)",
   "language": "python",
   "name": "python3"
  },
  "language_info": {
   "codemirror_mode": {
    "name": "ipython",
    "version": 3
   },
   "file_extension": ".py",
   "mimetype": "text/x-python",
   "name": "python",
   "nbconvert_exporter": "python",
   "pygments_lexer": "ipython3",
   "version": "3.12.6"
  }
 },
 "nbformat": 4,
 "nbformat_minor": 5
}
